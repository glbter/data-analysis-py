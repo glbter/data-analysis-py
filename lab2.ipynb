{
 "cells": [
  {
   "cell_type": "markdown",
   "id": "removed-player",
   "metadata": {},
   "source": [
    "### Статистичний аналіз даних\n",
    "**Мета роботи:**\n",
    "Ознайомитись з основними функціями бібліотеки NumPy та\n",
    "SciPy для описової статистики, перевірки статистичних гіпотез, кореляційного\n",
    "аналізу та лінійної регресії."
   ]
  },
  {
   "cell_type": "markdown",
   "id": "cheap-dayton",
   "metadata": {},
   "source": [
    "Варіант 3.  \n",
    "Файл possum.csv.\n",
    "1. Знайти розмір, який не перевищують очі 25% опосумів.\n",
    "2. Перевірити чи нормально розподілена довжина тіла.\n",
    "3. Чи є зв’язок між довжиною тіла і віком опосума?\n",
    "4. Чи відрізняється загальна довжина тіла опосумів Вікторії та інших\n",
    "провінцій?"
   ]
  },
  {
   "cell_type": "code",
   "execution_count": 1,
   "id": "black-degree",
   "metadata": {},
   "outputs": [],
   "source": [
    "import numpy as np\n",
    "import pandas as pd\n",
    "import matplotlib.pyplot as plt\n",
    "from scipy import stats"
   ]
  },
  {
   "cell_type": "code",
   "execution_count": 2,
   "id": "laden-indiana",
   "metadata": {
    "scrolled": true
   },
   "outputs": [
    {
     "data": {
      "text/html": [
       "<div>\n",
       "<style scoped>\n",
       "    .dataframe tbody tr th:only-of-type {\n",
       "        vertical-align: middle;\n",
       "    }\n",
       "\n",
       "    .dataframe tbody tr th {\n",
       "        vertical-align: top;\n",
       "    }\n",
       "\n",
       "    .dataframe thead th {\n",
       "        text-align: right;\n",
       "    }\n",
       "</style>\n",
       "<table border=\"1\" class=\"dataframe\">\n",
       "  <thead>\n",
       "    <tr style=\"text-align: right;\">\n",
       "      <th></th>\n",
       "      <th>case</th>\n",
       "      <th>site</th>\n",
       "      <th>Pop</th>\n",
       "      <th>sex</th>\n",
       "      <th>age</th>\n",
       "      <th>hdlngth</th>\n",
       "      <th>skullw</th>\n",
       "      <th>totlngth</th>\n",
       "      <th>taill</th>\n",
       "      <th>footlgth</th>\n",
       "      <th>earconch</th>\n",
       "      <th>eye</th>\n",
       "      <th>chest</th>\n",
       "      <th>belly</th>\n",
       "    </tr>\n",
       "  </thead>\n",
       "  <tbody>\n",
       "    <tr>\n",
       "      <th>0</th>\n",
       "      <td>1</td>\n",
       "      <td>1</td>\n",
       "      <td>Vic</td>\n",
       "      <td>m</td>\n",
       "      <td>8.0</td>\n",
       "      <td>94.1</td>\n",
       "      <td>60.4</td>\n",
       "      <td>89.0</td>\n",
       "      <td>36.0</td>\n",
       "      <td>74.5</td>\n",
       "      <td>54.5</td>\n",
       "      <td>15.2</td>\n",
       "      <td>28.0</td>\n",
       "      <td>36.0</td>\n",
       "    </tr>\n",
       "    <tr>\n",
       "      <th>1</th>\n",
       "      <td>2</td>\n",
       "      <td>1</td>\n",
       "      <td>Vic</td>\n",
       "      <td>f</td>\n",
       "      <td>6.0</td>\n",
       "      <td>92.5</td>\n",
       "      <td>57.6</td>\n",
       "      <td>91.5</td>\n",
       "      <td>36.5</td>\n",
       "      <td>72.5</td>\n",
       "      <td>51.2</td>\n",
       "      <td>16.0</td>\n",
       "      <td>28.5</td>\n",
       "      <td>33.0</td>\n",
       "    </tr>\n",
       "    <tr>\n",
       "      <th>2</th>\n",
       "      <td>3</td>\n",
       "      <td>1</td>\n",
       "      <td>Vic</td>\n",
       "      <td>f</td>\n",
       "      <td>6.0</td>\n",
       "      <td>94.0</td>\n",
       "      <td>60.0</td>\n",
       "      <td>95.5</td>\n",
       "      <td>39.0</td>\n",
       "      <td>75.4</td>\n",
       "      <td>51.9</td>\n",
       "      <td>15.5</td>\n",
       "      <td>30.0</td>\n",
       "      <td>34.0</td>\n",
       "    </tr>\n",
       "    <tr>\n",
       "      <th>3</th>\n",
       "      <td>4</td>\n",
       "      <td>1</td>\n",
       "      <td>Vic</td>\n",
       "      <td>f</td>\n",
       "      <td>6.0</td>\n",
       "      <td>93.2</td>\n",
       "      <td>57.1</td>\n",
       "      <td>92.0</td>\n",
       "      <td>38.0</td>\n",
       "      <td>76.1</td>\n",
       "      <td>52.2</td>\n",
       "      <td>15.2</td>\n",
       "      <td>28.0</td>\n",
       "      <td>34.0</td>\n",
       "    </tr>\n",
       "    <tr>\n",
       "      <th>4</th>\n",
       "      <td>5</td>\n",
       "      <td>1</td>\n",
       "      <td>Vic</td>\n",
       "      <td>f</td>\n",
       "      <td>2.0</td>\n",
       "      <td>91.5</td>\n",
       "      <td>56.3</td>\n",
       "      <td>85.5</td>\n",
       "      <td>36.0</td>\n",
       "      <td>71.0</td>\n",
       "      <td>53.2</td>\n",
       "      <td>15.1</td>\n",
       "      <td>28.5</td>\n",
       "      <td>33.0</td>\n",
       "    </tr>\n",
       "    <tr>\n",
       "      <th>...</th>\n",
       "      <td>...</td>\n",
       "      <td>...</td>\n",
       "      <td>...</td>\n",
       "      <td>...</td>\n",
       "      <td>...</td>\n",
       "      <td>...</td>\n",
       "      <td>...</td>\n",
       "      <td>...</td>\n",
       "      <td>...</td>\n",
       "      <td>...</td>\n",
       "      <td>...</td>\n",
       "      <td>...</td>\n",
       "      <td>...</td>\n",
       "      <td>...</td>\n",
       "    </tr>\n",
       "    <tr>\n",
       "      <th>99</th>\n",
       "      <td>100</td>\n",
       "      <td>7</td>\n",
       "      <td>other</td>\n",
       "      <td>m</td>\n",
       "      <td>1.0</td>\n",
       "      <td>89.5</td>\n",
       "      <td>56.0</td>\n",
       "      <td>81.5</td>\n",
       "      <td>36.5</td>\n",
       "      <td>66.0</td>\n",
       "      <td>46.8</td>\n",
       "      <td>14.8</td>\n",
       "      <td>23.0</td>\n",
       "      <td>27.0</td>\n",
       "    </tr>\n",
       "    <tr>\n",
       "      <th>100</th>\n",
       "      <td>101</td>\n",
       "      <td>7</td>\n",
       "      <td>other</td>\n",
       "      <td>m</td>\n",
       "      <td>1.0</td>\n",
       "      <td>88.6</td>\n",
       "      <td>54.7</td>\n",
       "      <td>82.5</td>\n",
       "      <td>39.0</td>\n",
       "      <td>64.4</td>\n",
       "      <td>48.0</td>\n",
       "      <td>14.0</td>\n",
       "      <td>25.0</td>\n",
       "      <td>33.0</td>\n",
       "    </tr>\n",
       "    <tr>\n",
       "      <th>101</th>\n",
       "      <td>102</td>\n",
       "      <td>7</td>\n",
       "      <td>other</td>\n",
       "      <td>f</td>\n",
       "      <td>6.0</td>\n",
       "      <td>92.4</td>\n",
       "      <td>55.0</td>\n",
       "      <td>89.0</td>\n",
       "      <td>38.0</td>\n",
       "      <td>63.5</td>\n",
       "      <td>45.4</td>\n",
       "      <td>13.0</td>\n",
       "      <td>25.0</td>\n",
       "      <td>30.0</td>\n",
       "    </tr>\n",
       "    <tr>\n",
       "      <th>102</th>\n",
       "      <td>103</td>\n",
       "      <td>7</td>\n",
       "      <td>other</td>\n",
       "      <td>m</td>\n",
       "      <td>4.0</td>\n",
       "      <td>91.5</td>\n",
       "      <td>55.2</td>\n",
       "      <td>82.5</td>\n",
       "      <td>36.5</td>\n",
       "      <td>62.9</td>\n",
       "      <td>45.9</td>\n",
       "      <td>15.4</td>\n",
       "      <td>25.0</td>\n",
       "      <td>29.0</td>\n",
       "    </tr>\n",
       "    <tr>\n",
       "      <th>103</th>\n",
       "      <td>104</td>\n",
       "      <td>7</td>\n",
       "      <td>other</td>\n",
       "      <td>f</td>\n",
       "      <td>3.0</td>\n",
       "      <td>93.6</td>\n",
       "      <td>59.9</td>\n",
       "      <td>89.0</td>\n",
       "      <td>40.0</td>\n",
       "      <td>67.6</td>\n",
       "      <td>46.0</td>\n",
       "      <td>14.8</td>\n",
       "      <td>28.5</td>\n",
       "      <td>33.5</td>\n",
       "    </tr>\n",
       "  </tbody>\n",
       "</table>\n",
       "<p>104 rows × 14 columns</p>\n",
       "</div>"
      ],
      "text/plain": [
       "     case  site    Pop sex  age  hdlngth  skullw  totlngth  taill  footlgth  \\\n",
       "0       1     1    Vic   m  8.0     94.1    60.4      89.0   36.0      74.5   \n",
       "1       2     1    Vic   f  6.0     92.5    57.6      91.5   36.5      72.5   \n",
       "2       3     1    Vic   f  6.0     94.0    60.0      95.5   39.0      75.4   \n",
       "3       4     1    Vic   f  6.0     93.2    57.1      92.0   38.0      76.1   \n",
       "4       5     1    Vic   f  2.0     91.5    56.3      85.5   36.0      71.0   \n",
       "..    ...   ...    ...  ..  ...      ...     ...       ...    ...       ...   \n",
       "99    100     7  other   m  1.0     89.5    56.0      81.5   36.5      66.0   \n",
       "100   101     7  other   m  1.0     88.6    54.7      82.5   39.0      64.4   \n",
       "101   102     7  other   f  6.0     92.4    55.0      89.0   38.0      63.5   \n",
       "102   103     7  other   m  4.0     91.5    55.2      82.5   36.5      62.9   \n",
       "103   104     7  other   f  3.0     93.6    59.9      89.0   40.0      67.6   \n",
       "\n",
       "     earconch   eye  chest  belly  \n",
       "0        54.5  15.2   28.0   36.0  \n",
       "1        51.2  16.0   28.5   33.0  \n",
       "2        51.9  15.5   30.0   34.0  \n",
       "3        52.2  15.2   28.0   34.0  \n",
       "4        53.2  15.1   28.5   33.0  \n",
       "..        ...   ...    ...    ...  \n",
       "99       46.8  14.8   23.0   27.0  \n",
       "100      48.0  14.0   25.0   33.0  \n",
       "101      45.4  13.0   25.0   30.0  \n",
       "102      45.9  15.4   25.0   29.0  \n",
       "103      46.0  14.8   28.5   33.5  \n",
       "\n",
       "[104 rows x 14 columns]"
      ]
     },
     "metadata": {},
     "output_type": "display_data"
    }
   ],
   "source": [
    "data = pd.read_csv('possum.csv')\n",
    "display(data)"
   ]
  },
  {
   "cell_type": "markdown",
   "id": "creative-pattern",
   "metadata": {},
   "source": [
    "### 1. Знайти розмір, який не перевищують очі 25% опосумів."
   ]
  },
  {
   "cell_type": "code",
   "execution_count": 3,
   "id": "confidential-contrary",
   "metadata": {},
   "outputs": [
    {
     "data": {
      "text/plain": [
       "14.4"
      ]
     },
     "execution_count": 3,
     "metadata": {},
     "output_type": "execute_result"
    }
   ],
   "source": [
    "possums_eye_size = data['eye']\n",
    "possums_eye_size.quantile(0.25)"
   ]
  },
  {
   "cell_type": "markdown",
   "id": "directed-capture",
   "metadata": {},
   "source": [
    "### 2. Перевірити чи нормально розподілена довжина тіла."
   ]
  },
  {
   "cell_type": "code",
   "execution_count": 4,
   "id": "suited-target",
   "metadata": {},
   "outputs": [
    {
     "data": {
      "image/png": "[encoded data removed]",
      "text/plain": [
       "<Figure size 432x288 with 1 Axes>"
      ]
     },
     "metadata": {
      "needs_background": "light"
     },
     "output_type": "display_data"
    },
    {
     "data": {
      "text/plain": [
       "NormaltestResult(statistic=1.5019577611029806, pvalue=0.47190438854803596)"
      ]
     },
     "execution_count": 4,
     "metadata": {},
     "output_type": "execute_result"
    }
   ],
   "source": [
    "possums_total_length = data['totlngth']\n",
    "possums_total_length.hist()\n",
    "plt.show()\n",
    "stats.normaltest(possums_total_length)"
   ]
  },
  {
   "cell_type": "markdown",
   "id": "canadian-anderson",
   "metadata": {},
   "source": [
    "`pvalue > 0.05`, отже **довжина тіла має нормальний розподіл**"
   ]
  },
  {
   "cell_type": "markdown",
   "id": "mental-battery",
   "metadata": {},
   "source": [
    "### 3. Чи є зв’язок між довжиною тіла і віком опосума?"
   ]
  },
  {
   "cell_type": "code",
   "execution_count": 5,
   "id": "neutral-pontiac",
   "metadata": {},
   "outputs": [],
   "source": [
    "data.fillna(inplace=True, value={'totlngth': data.totlngth.mean(), 'age': data.age.mean()})\n",
    "dp = data.totlngth"
   ]
  },
  {
   "cell_type": "code",
   "execution_count": 6,
   "id": "hydraulic-intention",
   "metadata": {},
   "outputs": [
    {
     "data": {
      "text/plain": [
       "(0.25097031062591957, 0.010177518719021523)"
      ]
     },
     "execution_count": 6,
     "metadata": {},
     "output_type": "execute_result"
    }
   ],
   "source": [
    "stats.pearsonr(data.totlngth, data.age)"
   ]
  },
  {
   "cell_type": "code",
   "execution_count": 7,
   "id": "cognitive-necessity",
   "metadata": {},
   "outputs": [],
   "source": [
    "data = pd.read_csv('possum.csv')\n",
    "data.dropna(subset=['totlngth', 'age'], inplace=True)"
   ]
  },
  {
   "cell_type": "code",
   "execution_count": 8,
   "id": "christian-witch",
   "metadata": {},
   "outputs": [
    {
     "data": {
      "text/plain": [
       "(0.2602802985765305, 0.008241652040941617)"
      ]
     },
     "execution_count": 8,
     "metadata": {},
     "output_type": "execute_result"
    }
   ],
   "source": [
    "stats.pearsonr(data.totlngth, data.age)"
   ]
  },
  {
   "cell_type": "markdown",
   "id": "beautiful-source",
   "metadata": {},
   "source": [
    "Коефіціент кореляції < 0.5, а p значення < 0.05.  \n",
    "**Кореляції між між довжиною тіла і віком опосума немає**"
   ]
  },
  {
   "cell_type": "code",
   "execution_count": 13,
   "id": "charged-punishment",
   "metadata": {},
   "outputs": [
    {
     "data": {
      "text/plain": [
       "[<matplotlib.lines.Line2D at 0x1d3daf10>]"
      ]
     },
     "execution_count": 13,
     "metadata": {},
     "output_type": "execute_result"
    },
    {
     "data": {
      "image/png": "[encoded data removed]",
      "text/plain": [
       "<Figure size 432x288 with 1 Axes>"
      ]
     },
     "metadata": {
      "needs_background": "light"
     },
     "output_type": "display_data"
    }
   ],
   "source": [
    "plt.plot(data.totlngth, data.age, linestyle=\"None\", marker=\".\")"
   ]
  },
  {
   "cell_type": "markdown",
   "id": "difficult-sacramento",
   "metadata": {},
   "source": [
    "### 4. Чи відрізняється загальна довжина тіла опосумів Вікторії та інших провінцій?"
   ]
  },
  {
   "cell_type": "markdown",
   "id": "adapted-cotton",
   "metadata": {},
   "source": [
    "H0 - різниця мат. сподіваннь рівна 0  \n",
    "H1 - різниця мат. сподіваннь не рівна 0"
   ]
  },
  {
   "cell_type": "code",
   "execution_count": 10,
   "id": "chinese-columbus",
   "metadata": {},
   "outputs": [
    {
     "data": {
      "text/plain": [
       "Ttest_indResult(statistic=0.7969610965514435, pvalue=0.427324837545637)"
      ]
     },
     "execution_count": 10,
     "metadata": {},
     "output_type": "execute_result"
    }
   ],
   "source": [
    "df = pd.read_csv('possum.csv')\n",
    "victoria = df.loc[df['Pop'] == 'Vic']\n",
    "nonVictoria = df.loc[df['Pop'] == 'other']\n",
    "stats.ttest_ind(victoria.totlngth, nonVictoria.totlngth)"
   ]
  },
  {
   "cell_type": "markdown",
   "id": "direct-naples",
   "metadata": {},
   "source": [
    "`pvalue=0.427 > 0.05`\n",
    "Є усі підстави прийняти нульову гіпотезу.  \n",
    "**Загальна довжина тіла опосумів Вікторії та інших провінцій не відрізняється.**"
   ]
  }
 ],
 "metadata": {
  "kernelspec": {
   "display_name": "venv",
   "language": "python",
   "name": "venv"
  },
  "language_info": {
   "codemirror_mode": {
    "name": "ipython",
    "version": 3
   },
   "file_extension": ".py",
   "mimetype": "text/x-python",
   "name": "python",
   "nbconvert_exporter": "python",
   "pygments_lexer": "ipython3",
   "version": "3.8.8"
  }
 },
 "nbformat": 4,
 "nbformat_minor": 5
}
