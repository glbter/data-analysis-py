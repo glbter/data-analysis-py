{
 "cells": [
  {
   "cell_type": "code",
   "execution_count": 1,
   "id": "prospective-manor",
   "metadata": {},
   "outputs": [],
   "source": [
    "import numpy as np\n",
    "import pandas as pd"
   ]
  },
  {
   "cell_type": "markdown",
   "id": "premier-nebraska",
   "metadata": {},
   "source": [
    "Завдання до лабораторної роботи\n",
    "Створити програму, яка:\n",
    "1. Генерує випадкові масиви різними способами, зазначеними в\n",
    "теоретичних відомостях.\n",
    "2. Демонструє звернення до елементів масиву за допомогою індексів, в\n",
    "тому числі від’ємних; виділення підмасивів.\n",
    "3. Демонструє основні арифметичні операції над масивами, а також роботу\n",
    "методів reduce ,  accumulate, outer.\n",
    "4. Вираховує  статистичні  характеристики,  а  саме,  мінімальне  і\n",
    "максимальне  значення,  вибіркові  середнє,  дисперсію,\n",
    "середньоквадратичне відхилення, медіану та 25 та 75 персентилі,\n",
    "величини ширина пелюстки (petal_width) з набору даних щодо квіток\n",
    "ірису (iris.csv)."
   ]
  },
  {
   "cell_type": "markdown",
   "id": "personal-machinery",
   "metadata": {},
   "source": [
    "Генерує випадкові масиви різними способами, зазначеними в теоретичних відомостях."
   ]
  },
  {
   "cell_type": "code",
   "execution_count": 2,
   "id": "confused-glossary",
   "metadata": {},
   "outputs": [
    {
     "name": "stdout",
     "output_type": "stream",
     "text": [
      "[[10.33343029 10.23550808 11.91659716]\n",
      " [ 9.43783831  9.38852152 11.4815357 ]\n",
      " [ 9.79835156  9.02900832  9.23521865]]\n",
      "[[ 9.80567144  8.10928758  7.79850445]\n",
      " [ 9.80584238  9.91331023 11.92263236]\n",
      " [10.87567938 11.89442429 11.86403434]]\n",
      "[[10 10 10]\n",
      " [ 9  9 10]\n",
      " [ 9  8  9]]\n",
      "[[0.83338046 0.22527493 0.87158805]\n",
      " [0.42966354 0.16749947 0.01707719]\n",
      " [0.17624723 0.52690629 0.96962163]]\n"
     ]
    }
   ],
   "source": [
    "random_generator = np.random.default_rng()\n",
    "random_values = random_generator.normal(10, 1, (3, 3))\n",
    "print(random_values)\n",
    "another_random_values = np.random.normal(10, 2, (3, 3))\n",
    "print(another_random_values)\n",
    "one_more_random_values = np.random.randint(8, 11, (3, 3))\n",
    "print(one_more_random_values)\n",
    "last_random_values = np.random.random((3, 3))\n",
    "print(last_random_values)"
   ]
  },
  {
   "cell_type": "markdown",
   "id": "absent-death",
   "metadata": {},
   "source": [
    "Демонструє звернення до елементів масиву за допомогою індексів, в тому числі від’ємних; виділення підмасивів."
   ]
  },
  {
   "cell_type": "code",
   "execution_count": 3,
   "id": "military-stuff",
   "metadata": {},
   "outputs": [
    {
     "name": "stdout",
     "output_type": "stream",
     "text": [
      "[1 2 3]\n",
      "2\n",
      "5\n",
      "5\n",
      "[[1 2 3]\n",
      " [7 8 9]]\n",
      "[[4 5 6]\n",
      " [1 2 3]]\n"
     ]
    }
   ],
   "source": [
    "a = np.array([[1, 2, 3], [4, 5, 6], [7, 8, 9]])\n",
    "print(a[0])  # first array\n",
    "print(a[0][1])  # second element from first array\n",
    "print(a[-2][-2])  # second element from the end from the second from the end array\n",
    "print(a[1, -2])  # second element from the end from the second array\n",
    "print(a[::2])  # two-dimensional array that include all arrays from first to last with step equal 2\n",
    "print(a[1::-1])  # two-dimensional array that include all arrays from second to first with step equal 1"
   ]
  },
  {
   "cell_type": "markdown",
   "id": "unlimited-excellence",
   "metadata": {},
   "source": [
    "Демонструє основні арифметичні операції над масивами, а також роботу методів reduce , accumulate, outer."
   ]
  },
  {
   "cell_type": "code",
   "execution_count": 4,
   "id": "injured-definition",
   "metadata": {},
   "outputs": [
    {
     "data": {
      "text/plain": [
       "(array([19., 19., 19., 19.]),\n",
       " array([32., 32., 32., 32.]),\n",
       " array([1.41421356, 1.41421356, 1.41421356, 1.41421356]),\n",
       " array([[0.5, 1. , 1.5],\n",
       "        [2. , 2.5, 3. ],\n",
       "        [3.5, 4. , 4.5]]),\n",
       " array([[-1, -2, -3],\n",
       "        [-4, -5, -6],\n",
       "        [-7, -8, -9]]),\n",
       " array([0.47942554, 0.47942554, 0.47942554, 0.47942554]))"
      ]
     },
     "execution_count": 4,
     "metadata": {},
     "output_type": "execute_result"
    }
   ],
   "source": [
    "ones=np.ones(4)\n",
    "ones+18, ones*32, (ones+1)**(1/2), a/2, -a, np.sin(ones/2)"
   ]
  },
  {
   "cell_type": "code",
   "execution_count": 5,
   "id": "incomplete-relationship",
   "metadata": {},
   "outputs": [
    {
     "data": {
      "text/plain": [
       "(array([5., 5., 5., 5.]), array([6., 6., 6., 6.]))"
      ]
     },
     "execution_count": 5,
     "metadata": {},
     "output_type": "execute_result"
    }
   ],
   "source": [
    "ones*2 + ones*3, (ones*2) * (ones * 3)"
   ]
  },
  {
   "cell_type": "code",
   "execution_count": 6,
   "id": "extraordinary-finland",
   "metadata": {},
   "outputs": [
    {
     "data": {
      "text/plain": [
       "(array([[1, 2, 3],\n",
       "        [4, 5, 6],\n",
       "        [7, 8, 9]]),\n",
       " array([ 28,  80, 162]),\n",
       " array([  6, 120, 504]))"
      ]
     },
     "execution_count": 6,
     "metadata": {},
     "output_type": "execute_result"
    }
   ],
   "source": [
    "arr =np.array([[1,2,3],[4,5,6],[7,8,9]])\n",
    "arr, np.multiply.reduce(arr), np.multiply.reduce(arr, axis=1)"
   ]
  },
  {
   "cell_type": "code",
   "execution_count": 7,
   "id": "julian-helping",
   "metadata": {},
   "outputs": [
    {
     "data": {
      "text/plain": [
       "array([[  1,   2,   3],\n",
       "       [  4,  10,  18],\n",
       "       [ 28,  80, 162]], dtype=int32)"
      ]
     },
     "execution_count": 7,
     "metadata": {},
     "output_type": "execute_result"
    }
   ],
   "source": [
    "np.multiply.accumulate(arr)"
   ]
  },
  {
   "cell_type": "code",
   "execution_count": 8,
   "id": "opposed-fishing",
   "metadata": {},
   "outputs": [
    {
     "data": {
      "text/plain": [
       "array([1, 2, 3, 4, 5, 6, 7, 8, 9])"
      ]
     },
     "execution_count": 8,
     "metadata": {},
     "output_type": "execute_result"
    }
   ],
   "source": [
    "a = np.array([1,2,3,4,5,6,7,8,9])\n",
    "ar = np.array([[1,2,3],[4,5,6],[7,8,9]])\n",
    "a"
   ]
  },
  {
   "cell_type": "code",
   "execution_count": 11,
   "id": "closed-scanner",
   "metadata": {},
   "outputs": [
    {
     "data": {
      "text/plain": [
       "array([[[ 2,  3,  4,  5,  6,  7,  8,  9, 10],\n",
       "        [ 3,  4,  5,  6,  7,  8,  9, 10, 11],\n",
       "        [ 4,  5,  6,  7,  8,  9, 10, 11, 12]],\n",
       "\n",
       "       [[ 5,  6,  7,  8,  9, 10, 11, 12, 13],\n",
       "        [ 6,  7,  8,  9, 10, 11, 12, 13, 14],\n",
       "        [ 7,  8,  9, 10, 11, 12, 13, 14, 15]],\n",
       "\n",
       "       [[ 8,  9, 10, 11, 12, 13, 14, 15, 16],\n",
       "        [ 9, 10, 11, 12, 13, 14, 15, 16, 17],\n",
       "        [10, 11, 12, 13, 14, 15, 16, 17, 18]]])"
      ]
     },
     "execution_count": 11,
     "metadata": {},
     "output_type": "execute_result"
    }
   ],
   "source": [
    "np.add.outer(ar, a)"
   ]
  },
  {
   "cell_type": "code",
   "execution_count": 12,
   "id": "greek-account",
   "metadata": {},
   "outputs": [],
   "source": [
    "data = pd.read_csv('iris.csv')\n",
    "petalWd = np.array(data['petal_width'])"
   ]
  },
  {
   "cell_type": "markdown",
   "id": "molecular-waters",
   "metadata": {},
   "source": [
    "Вираховує статистичні характеристики, а саме, мінімальне і максимальне значення, вибіркові середнє, дисперсію, середньоквадратичне відхилення, медіану та 25 та 75 персентилі, величини ширина пелюстки (petal_width) з набору даних щодо квіток ірису (iris.csv)."
   ]
  },
  {
   "cell_type": "code",
   "execution_count": 13,
   "id": "requested-capacity",
   "metadata": {},
   "outputs": [
    {
     "data": {
      "text/plain": [
       "array([[  1,   2,   3],\n",
       "       [  4,  10,  18],\n",
       "       [ 28,  80, 162]], dtype=int32)"
      ]
     },
     "execution_count": 13,
     "metadata": {},
     "output_type": "execute_result"
    }
   ],
   "source": [
    "np.multiply.accumulate(ar)"
   ]
  },
  {
   "cell_type": "code",
   "execution_count": 14,
   "id": "extraordinary-evidence",
   "metadata": {},
   "outputs": [
    {
     "data": {
      "text/plain": [
       "2.5"
      ]
     },
     "execution_count": 14,
     "metadata": {},
     "output_type": "execute_result"
    }
   ],
   "source": [
    "petalWd.max()"
   ]
  },
  {
   "cell_type": "code",
   "execution_count": 15,
   "id": "south-virtue",
   "metadata": {},
   "outputs": [
    {
     "data": {
      "text/plain": [
       "0.1"
      ]
     },
     "execution_count": 15,
     "metadata": {},
     "output_type": "execute_result"
    }
   ],
   "source": [
    "petalWd.min()"
   ]
  },
  {
   "cell_type": "code",
   "execution_count": 16,
   "id": "loving-display",
   "metadata": {},
   "outputs": [
    {
     "data": {
      "text/plain": [
       "1.1986666666666668"
      ]
     },
     "execution_count": 16,
     "metadata": {},
     "output_type": "execute_result"
    }
   ],
   "source": [
    "petalWd.mean()"
   ]
  },
  {
   "cell_type": "code",
   "execution_count": 17,
   "id": "linear-disposition",
   "metadata": {},
   "outputs": [
    {
     "data": {
      "text/plain": [
       "0.582414317673378"
      ]
     },
     "execution_count": 17,
     "metadata": {},
     "output_type": "execute_result"
    }
   ],
   "source": [
    "petalWd.var(ddof=1)"
   ]
  },
  {
   "cell_type": "code",
   "execution_count": 18,
   "id": "beneficial-donna",
   "metadata": {},
   "outputs": [
    {
     "data": {
      "text/plain": [
       "0.7631607417008411"
      ]
     },
     "execution_count": 18,
     "metadata": {},
     "output_type": "execute_result"
    }
   ],
   "source": [
    "petalWd.std(ddof=1)"
   ]
  },
  {
   "cell_type": "code",
   "execution_count": 19,
   "id": "extra-highland",
   "metadata": {},
   "outputs": [
    {
     "data": {
      "text/plain": [
       "0.3"
      ]
     },
     "execution_count": 19,
     "metadata": {},
     "output_type": "execute_result"
    }
   ],
   "source": [
    "np.percentile(petalWd,25)"
   ]
  },
  {
   "cell_type": "code",
   "execution_count": 20,
   "id": "located-tulsa",
   "metadata": {},
   "outputs": [
    {
     "data": {
      "text/plain": [
       "1.3"
      ]
     },
     "execution_count": 20,
     "metadata": {},
     "output_type": "execute_result"
    }
   ],
   "source": [
    "np.median(petalWd)"
   ]
  },
  {
   "cell_type": "code",
   "execution_count": 21,
   "id": "historic-selling",
   "metadata": {},
   "outputs": [
    {
     "data": {
      "text/plain": [
       "1.8"
      ]
     },
     "execution_count": 21,
     "metadata": {},
     "output_type": "execute_result"
    }
   ],
   "source": [
    "np.percentile(petalWd,75)"
   ]
  }
 ],
 "metadata": {
  "kernelspec": {
   "display_name": "venv",
   "language": "python",
   "name": "venv"
  },
  "language_info": {
   "codemirror_mode": {
    "name": "ipython",
    "version": 3
   },
   "file_extension": ".py",
   "mimetype": "text/x-python",
   "name": "python",
   "nbconvert_exporter": "python",
   "pygments_lexer": "ipython3",
   "version": "3.8.8"
  }
 },
 "nbformat": 4,
 "nbformat_minor": 5
}
