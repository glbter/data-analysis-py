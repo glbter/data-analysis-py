{
 "cells": [
  {
   "cell_type": "markdown",
   "id": "elder-heading",
   "metadata": {},
   "source": [
    "## Робота з часовими рядами в Pandas"
   ]
  },
  {
   "cell_type": "markdown",
   "id": "instant-provision",
   "metadata": {},
   "source": [
    "**Мета роботи:** Ознайомитись з основними представленнями часових рядів в\n",
    "Pandas та операціями з ними."
   ]
  },
  {
   "cell_type": "markdown",
   "id": "american-moderator",
   "metadata": {},
   "source": [
    "**Завдання до лабораторної роботи**\n",
    "\n",
    "Створити програму, яка виконує наступні завдання:\n",
    "1. Створити не менше двох об’єктів TimeSeries, у яких індекси створені за\n",
    "допомогою date_range(). Виділити підмасиви у цих об’єктів. Провести\n",
    "об’єднання об’єктів TimeSeries за допомогою merge_asof().\n",
    "2. Виконати завдання відповідно до варіанту.\n",
    "\n",
    "**Варіант 3.**  \n",
    "\n",
    "Файл digital_currency.csv.\n",
    "1. Побудувати графік зміни ціни на час відкриття біржі (в доларах): \n",
    "   - а) загальний;\n",
    "   - б) за 2019 рік;\n",
    "   - в) за грудень 2020 року;\n",
    "   - г) за жовтень 2018 – липень 2020;\n",
    "   - д) за останні два тижня вересня 2020-го року.\n",
    "2. Знайти середні значення найменшої ціни за день (в доларах): \n",
    "   - а) за 2019 рік; \n",
    "   - б) за кожний місяць; \n",
    "   - в) за кожний тиждень весни 2020 року."
   ]
  },
  {
   "cell_type": "code",
   "execution_count": 1,
   "id": "cheap-bouquet",
   "metadata": {},
   "outputs": [],
   "source": [
    "import pandas as pd\n",
    "import seaborn as sns"
   ]
  },
  {
   "cell_type": "markdown",
   "id": "excess-identity",
   "metadata": {},
   "source": [
    "### Створити не менше двох об’єктів TimeSeries, у яких індекси створені за допомогою date_range(). Виділити підмасиви у цих об’єктів. Провести об’єднання об’єктів TimeSeries за допомогою merge_asof()."
   ]
  },
  {
   "cell_type": "code",
   "execution_count": 2,
   "id": "classified-publication",
   "metadata": {},
   "outputs": [
    {
     "data": {
      "text/plain": [
       "2019-12-09     0\n",
       "2019-12-10     1\n",
       "2019-12-11     2\n",
       "2019-12-12     3\n",
       "2019-12-13     4\n",
       "2019-12-16     5\n",
       "2019-12-17     6\n",
       "2019-12-18     7\n",
       "2019-12-19     8\n",
       "2019-12-20     9\n",
       "2019-12-23    10\n",
       "2019-12-24    11\n",
       "2019-12-25    12\n",
       "2019-12-26    13\n",
       "2019-12-27    14\n",
       "Freq: B, Name: Datas, dtype: int64"
      ]
     },
     "execution_count": 2,
     "metadata": {},
     "output_type": "execute_result"
    }
   ],
   "source": [
    "obj1 = pd.date_range('2019-12-07', periods=15, freq='B')\n",
    "\n",
    "dt1 = pd.Series([i for i in range(len(obj1))], index=obj1, name=\"Datas\")\n",
    "dt1"
   ]
  },
  {
   "cell_type": "code",
   "execution_count": 3,
   "id": "rental-public",
   "metadata": {},
   "outputs": [
    {
     "data": {
      "text/plain": [
       "2019-12-03     0\n",
       "2019-12-04     1\n",
       "2019-12-05     2\n",
       "2019-12-06     3\n",
       "2019-12-07     4\n",
       "2019-12-08     5\n",
       "2019-12-09     6\n",
       "2019-12-10     7\n",
       "2019-12-11     8\n",
       "2019-12-12     9\n",
       "2019-12-13    10\n",
       "2019-12-14    11\n",
       "2019-12-15    12\n",
       "2019-12-16    13\n",
       "2019-12-17    14\n",
       "Freq: D, Name: Datas2, dtype: int64"
      ]
     },
     "execution_count": 3,
     "metadata": {},
     "output_type": "execute_result"
    }
   ],
   "source": [
    "obj2 = pd.date_range('2019-12-03', periods=15, freq='D')\n",
    "\n",
    "dt2 = pd.Series([i for i in range(len(obj2))], index=obj2, name=\"Datas2\")\n",
    "dt2"
   ]
  },
  {
   "cell_type": "code",
   "execution_count": 4,
   "id": "frank-cable",
   "metadata": {},
   "outputs": [
    {
     "data": {
      "text/html": [
       "<div>\n",
       "<style scoped>\n",
       "    .dataframe tbody tr th:only-of-type {\n",
       "        vertical-align: middle;\n",
       "    }\n",
       "\n",
       "    .dataframe tbody tr th {\n",
       "        vertical-align: top;\n",
       "    }\n",
       "\n",
       "    .dataframe thead th {\n",
       "        text-align: right;\n",
       "    }\n",
       "</style>\n",
       "<table border=\"1\" class=\"dataframe\">\n",
       "  <thead>\n",
       "    <tr style=\"text-align: right;\">\n",
       "      <th></th>\n",
       "      <th>Datas</th>\n",
       "      <th>date</th>\n",
       "    </tr>\n",
       "  </thead>\n",
       "  <tbody>\n",
       "    <tr>\n",
       "      <th>2019-12-09</th>\n",
       "      <td>0</td>\n",
       "      <td>2019-12-09</td>\n",
       "    </tr>\n",
       "    <tr>\n",
       "      <th>2019-12-10</th>\n",
       "      <td>1</td>\n",
       "      <td>2019-12-10</td>\n",
       "    </tr>\n",
       "    <tr>\n",
       "      <th>2019-12-11</th>\n",
       "      <td>2</td>\n",
       "      <td>2019-12-11</td>\n",
       "    </tr>\n",
       "    <tr>\n",
       "      <th>2019-12-12</th>\n",
       "      <td>3</td>\n",
       "      <td>2019-12-12</td>\n",
       "    </tr>\n",
       "    <tr>\n",
       "      <th>2019-12-13</th>\n",
       "      <td>4</td>\n",
       "      <td>2019-12-13</td>\n",
       "    </tr>\n",
       "  </tbody>\n",
       "</table>\n",
       "</div>"
      ],
      "text/plain": [
       "            Datas       date\n",
       "2019-12-09      0 2019-12-09\n",
       "2019-12-10      1 2019-12-10\n",
       "2019-12-11      2 2019-12-11\n",
       "2019-12-12      3 2019-12-12\n",
       "2019-12-13      4 2019-12-13"
      ]
     },
     "execution_count": 4,
     "metadata": {},
     "output_type": "execute_result"
    }
   ],
   "source": [
    "dt11 = pd.DataFrame(dt1.loc['2019-12-05':'2019-12-13'])\n",
    "dt11['date'] = dt11.index\n",
    "dt11"
   ]
  },
  {
   "cell_type": "code",
   "execution_count": 5,
   "id": "greatest-amateur",
   "metadata": {},
   "outputs": [
    {
     "data": {
      "text/html": [
       "<div>\n",
       "<style scoped>\n",
       "    .dataframe tbody tr th:only-of-type {\n",
       "        vertical-align: middle;\n",
       "    }\n",
       "\n",
       "    .dataframe tbody tr th {\n",
       "        vertical-align: top;\n",
       "    }\n",
       "\n",
       "    .dataframe thead th {\n",
       "        text-align: right;\n",
       "    }\n",
       "</style>\n",
       "<table border=\"1\" class=\"dataframe\">\n",
       "  <thead>\n",
       "    <tr style=\"text-align: right;\">\n",
       "      <th></th>\n",
       "      <th>Datas2</th>\n",
       "      <th>date</th>\n",
       "    </tr>\n",
       "  </thead>\n",
       "  <tbody>\n",
       "    <tr>\n",
       "      <th>2019-12-06</th>\n",
       "      <td>3</td>\n",
       "      <td>2019-12-06</td>\n",
       "    </tr>\n",
       "    <tr>\n",
       "      <th>2019-12-07</th>\n",
       "      <td>4</td>\n",
       "      <td>2019-12-07</td>\n",
       "    </tr>\n",
       "    <tr>\n",
       "      <th>2019-12-08</th>\n",
       "      <td>5</td>\n",
       "      <td>2019-12-08</td>\n",
       "    </tr>\n",
       "    <tr>\n",
       "      <th>2019-12-09</th>\n",
       "      <td>6</td>\n",
       "      <td>2019-12-09</td>\n",
       "    </tr>\n",
       "    <tr>\n",
       "      <th>2019-12-10</th>\n",
       "      <td>7</td>\n",
       "      <td>2019-12-10</td>\n",
       "    </tr>\n",
       "    <tr>\n",
       "      <th>2019-12-11</th>\n",
       "      <td>8</td>\n",
       "      <td>2019-12-11</td>\n",
       "    </tr>\n",
       "  </tbody>\n",
       "</table>\n",
       "</div>"
      ],
      "text/plain": [
       "            Datas2       date\n",
       "2019-12-06       3 2019-12-06\n",
       "2019-12-07       4 2019-12-07\n",
       "2019-12-08       5 2019-12-08\n",
       "2019-12-09       6 2019-12-09\n",
       "2019-12-10       7 2019-12-10\n",
       "2019-12-11       8 2019-12-11"
      ]
     },
     "execution_count": 5,
     "metadata": {},
     "output_type": "execute_result"
    }
   ],
   "source": [
    "dt22 = pd.DataFrame(dt2.loc['2019-12-06':'2019-12-11'])\n",
    "dt22['date'] = dt22.index\n",
    "dt22"
   ]
  },
  {
   "cell_type": "code",
   "execution_count": 6,
   "id": "through-fifty",
   "metadata": {},
   "outputs": [
    {
     "data": {
      "text/html": [
       "<div>\n",
       "<style scoped>\n",
       "    .dataframe tbody tr th:only-of-type {\n",
       "        vertical-align: middle;\n",
       "    }\n",
       "\n",
       "    .dataframe tbody tr th {\n",
       "        vertical-align: top;\n",
       "    }\n",
       "\n",
       "    .dataframe thead th {\n",
       "        text-align: right;\n",
       "    }\n",
       "</style>\n",
       "<table border=\"1\" class=\"dataframe\">\n",
       "  <thead>\n",
       "    <tr style=\"text-align: right;\">\n",
       "      <th></th>\n",
       "      <th>Datas</th>\n",
       "      <th>date</th>\n",
       "      <th>Datas2</th>\n",
       "    </tr>\n",
       "  </thead>\n",
       "  <tbody>\n",
       "    <tr>\n",
       "      <th>0</th>\n",
       "      <td>0</td>\n",
       "      <td>2019-12-09</td>\n",
       "      <td>6</td>\n",
       "    </tr>\n",
       "    <tr>\n",
       "      <th>1</th>\n",
       "      <td>1</td>\n",
       "      <td>2019-12-10</td>\n",
       "      <td>7</td>\n",
       "    </tr>\n",
       "    <tr>\n",
       "      <th>2</th>\n",
       "      <td>2</td>\n",
       "      <td>2019-12-11</td>\n",
       "      <td>8</td>\n",
       "    </tr>\n",
       "    <tr>\n",
       "      <th>3</th>\n",
       "      <td>3</td>\n",
       "      <td>2019-12-12</td>\n",
       "      <td>8</td>\n",
       "    </tr>\n",
       "    <tr>\n",
       "      <th>4</th>\n",
       "      <td>4</td>\n",
       "      <td>2019-12-13</td>\n",
       "      <td>8</td>\n",
       "    </tr>\n",
       "  </tbody>\n",
       "</table>\n",
       "</div>"
      ],
      "text/plain": [
       "   Datas       date  Datas2\n",
       "0      0 2019-12-09       6\n",
       "1      1 2019-12-10       7\n",
       "2      2 2019-12-11       8\n",
       "3      3 2019-12-12       8\n",
       "4      4 2019-12-13       8"
      ]
     },
     "execution_count": 6,
     "metadata": {},
     "output_type": "execute_result"
    }
   ],
   "source": [
    "pd.merge_asof(dt11, dt22)"
   ]
  },
  {
   "cell_type": "code",
   "execution_count": 7,
   "id": "assisted-italic",
   "metadata": {},
   "outputs": [
    {
     "data": {
      "text/html": [
       "<div>\n",
       "<style scoped>\n",
       "    .dataframe tbody tr th:only-of-type {\n",
       "        vertical-align: middle;\n",
       "    }\n",
       "\n",
       "    .dataframe tbody tr th {\n",
       "        vertical-align: top;\n",
       "    }\n",
       "\n",
       "    .dataframe thead th {\n",
       "        text-align: right;\n",
       "    }\n",
       "</style>\n",
       "<table border=\"1\" class=\"dataframe\">\n",
       "  <thead>\n",
       "    <tr style=\"text-align: right;\">\n",
       "      <th></th>\n",
       "      <th>Datas</th>\n",
       "      <th>date</th>\n",
       "      <th>Datas2</th>\n",
       "    </tr>\n",
       "  </thead>\n",
       "  <tbody>\n",
       "    <tr>\n",
       "      <th>0</th>\n",
       "      <td>0</td>\n",
       "      <td>2019-12-09</td>\n",
       "      <td>6.0</td>\n",
       "    </tr>\n",
       "    <tr>\n",
       "      <th>1</th>\n",
       "      <td>1</td>\n",
       "      <td>2019-12-10</td>\n",
       "      <td>7.0</td>\n",
       "    </tr>\n",
       "    <tr>\n",
       "      <th>2</th>\n",
       "      <td>2</td>\n",
       "      <td>2019-12-11</td>\n",
       "      <td>8.0</td>\n",
       "    </tr>\n",
       "    <tr>\n",
       "      <th>3</th>\n",
       "      <td>3</td>\n",
       "      <td>2019-12-12</td>\n",
       "      <td>NaN</td>\n",
       "    </tr>\n",
       "    <tr>\n",
       "      <th>4</th>\n",
       "      <td>4</td>\n",
       "      <td>2019-12-13</td>\n",
       "      <td>NaN</td>\n",
       "    </tr>\n",
       "  </tbody>\n",
       "</table>\n",
       "</div>"
      ],
      "text/plain": [
       "   Datas       date  Datas2\n",
       "0      0 2019-12-09     6.0\n",
       "1      1 2019-12-10     7.0\n",
       "2      2 2019-12-11     8.0\n",
       "3      3 2019-12-12     NaN\n",
       "4      4 2019-12-13     NaN"
      ]
     },
     "execution_count": 7,
     "metadata": {},
     "output_type": "execute_result"
    }
   ],
   "source": [
    "pd.merge_asof(dt11, dt22, direction=\"forward\")"
   ]
  },
  {
   "cell_type": "markdown",
   "id": "textile-bowling",
   "metadata": {},
   "source": [
    "###  Варіант 3."
   ]
  },
  {
   "cell_type": "code",
   "execution_count": 8,
   "id": "outdoor-henry",
   "metadata": {},
   "outputs": [
    {
     "data": {
      "text/html": [
       "<div>\n",
       "<style scoped>\n",
       "    .dataframe tbody tr th:only-of-type {\n",
       "        vertical-align: middle;\n",
       "    }\n",
       "\n",
       "    .dataframe tbody tr th {\n",
       "        vertical-align: top;\n",
       "    }\n",
       "\n",
       "    .dataframe thead th {\n",
       "        text-align: right;\n",
       "    }\n",
       "</style>\n",
       "<table border=\"1\" class=\"dataframe\">\n",
       "  <thead>\n",
       "    <tr style=\"text-align: right;\">\n",
       "      <th></th>\n",
       "      <th>open_SAR</th>\n",
       "      <th>open_USD</th>\n",
       "      <th>high_SAR</th>\n",
       "      <th>high_USD</th>\n",
       "      <th>low_SAR</th>\n",
       "      <th>low_USD</th>\n",
       "      <th>close_SAR</th>\n",
       "      <th>close_USD</th>\n",
       "      <th>volume</th>\n",
       "    </tr>\n",
       "    <tr>\n",
       "      <th>date</th>\n",
       "      <th></th>\n",
       "      <th></th>\n",
       "      <th></th>\n",
       "      <th></th>\n",
       "      <th></th>\n",
       "      <th></th>\n",
       "      <th></th>\n",
       "      <th></th>\n",
       "      <th></th>\n",
       "    </tr>\n",
       "  </thead>\n",
       "  <tbody>\n",
       "    <tr>\n",
       "      <th>2018-05-07</th>\n",
       "      <td>36232.689408</td>\n",
       "      <td>9661.02</td>\n",
       "      <td>36340.138368</td>\n",
       "      <td>9689.67</td>\n",
       "      <td>34432.422400</td>\n",
       "      <td>9181.00</td>\n",
       "      <td>35122.496000</td>\n",
       "      <td>9365.00</td>\n",
       "      <td>33787</td>\n",
       "    </tr>\n",
       "    <tr>\n",
       "      <th>2018-05-08</th>\n",
       "      <td>35122.496000</td>\n",
       "      <td>9365.00</td>\n",
       "      <td>35537.665280</td>\n",
       "      <td>9475.70</td>\n",
       "      <td>33980.649216</td>\n",
       "      <td>9060.54</td>\n",
       "      <td>34457.025024</td>\n",
       "      <td>9187.56</td>\n",
       "      <td>25533</td>\n",
       "    </tr>\n",
       "    <tr>\n",
       "      <th>2018-05-09</th>\n",
       "      <td>34421.171200</td>\n",
       "      <td>9178.00</td>\n",
       "      <td>35216.256000</td>\n",
       "      <td>9390.00</td>\n",
       "      <td>33622.336000</td>\n",
       "      <td>8965.00</td>\n",
       "      <td>34916.224000</td>\n",
       "      <td>9310.00</td>\n",
       "      <td>25673</td>\n",
       "    </tr>\n",
       "    <tr>\n",
       "      <th>2018-05-10</th>\n",
       "      <td>34916.224000</td>\n",
       "      <td>9310.00</td>\n",
       "      <td>35235.458048</td>\n",
       "      <td>9395.12</td>\n",
       "      <td>33641.088000</td>\n",
       "      <td>8970.00</td>\n",
       "      <td>33761.850880</td>\n",
       "      <td>9002.20</td>\n",
       "      <td>25055</td>\n",
       "    </tr>\n",
       "    <tr>\n",
       "      <th>2018-05-11</th>\n",
       "      <td>33761.888384</td>\n",
       "      <td>9002.21</td>\n",
       "      <td>33816.606720</td>\n",
       "      <td>9016.80</td>\n",
       "      <td>31282.086400</td>\n",
       "      <td>8341.00</td>\n",
       "      <td>31503.360000</td>\n",
       "      <td>8400.00</td>\n",
       "      <td>48227</td>\n",
       "    </tr>\n",
       "    <tr>\n",
       "      <th>...</th>\n",
       "      <td>...</td>\n",
       "      <td>...</td>\n",
       "      <td>...</td>\n",
       "      <td>...</td>\n",
       "      <td>...</td>\n",
       "      <td>...</td>\n",
       "      <td>...</td>\n",
       "      <td>...</td>\n",
       "      <td>...</td>\n",
       "    </tr>\n",
       "    <tr>\n",
       "      <th>2021-01-26</th>\n",
       "      <td>120966.114176</td>\n",
       "      <td>32254.19</td>\n",
       "      <td>123470.218752</td>\n",
       "      <td>32921.88</td>\n",
       "      <td>115652.472448</td>\n",
       "      <td>30837.37</td>\n",
       "      <td>121767.124608</td>\n",
       "      <td>32467.77</td>\n",
       "      <td>84972</td>\n",
       "    </tr>\n",
       "    <tr>\n",
       "      <th>2021-01-27</th>\n",
       "      <td>121753.023104</td>\n",
       "      <td>32464.01</td>\n",
       "      <td>122102.860416</td>\n",
       "      <td>32557.29</td>\n",
       "      <td>109668.146688</td>\n",
       "      <td>29241.72</td>\n",
       "      <td>113885.208960</td>\n",
       "      <td>30366.15</td>\n",
       "      <td>95911</td>\n",
       "    </tr>\n",
       "    <tr>\n",
       "      <th>2021-01-28</th>\n",
       "      <td>113870.357376</td>\n",
       "      <td>30362.19</td>\n",
       "      <td>126703.438592</td>\n",
       "      <td>33783.98</td>\n",
       "      <td>111919.811840</td>\n",
       "      <td>29842.10</td>\n",
       "      <td>125131.570944</td>\n",
       "      <td>33364.86</td>\n",
       "      <td>92621</td>\n",
       "    </tr>\n",
       "    <tr>\n",
       "      <th>2021-01-29</th>\n",
       "      <td>125144.022272</td>\n",
       "      <td>33368.18</td>\n",
       "      <td>144510.037760</td>\n",
       "      <td>38531.90</td>\n",
       "      <td>119695.516160</td>\n",
       "      <td>31915.40</td>\n",
       "      <td>128459.450880</td>\n",
       "      <td>34252.20</td>\n",
       "      <td>231827</td>\n",
       "    </tr>\n",
       "    <tr>\n",
       "      <th>2021-01-30</th>\n",
       "      <td>128437.248512</td>\n",
       "      <td>34246.28</td>\n",
       "      <td>131012.723200</td>\n",
       "      <td>34933.00</td>\n",
       "      <td>123106.880000</td>\n",
       "      <td>32825.00</td>\n",
       "      <td>128333.212416</td>\n",
       "      <td>34218.54</td>\n",
       "      <td>43072</td>\n",
       "    </tr>\n",
       "  </tbody>\n",
       "</table>\n",
       "<p>1000 rows × 9 columns</p>\n",
       "</div>"
      ],
      "text/plain": [
       "                 open_SAR  open_USD       high_SAR  high_USD        low_SAR  \\\n",
       "date                                                                          \n",
       "2018-05-07   36232.689408   9661.02   36340.138368   9689.67   34432.422400   \n",
       "2018-05-08   35122.496000   9365.00   35537.665280   9475.70   33980.649216   \n",
       "2018-05-09   34421.171200   9178.00   35216.256000   9390.00   33622.336000   \n",
       "2018-05-10   34916.224000   9310.00   35235.458048   9395.12   33641.088000   \n",
       "2018-05-11   33761.888384   9002.21   33816.606720   9016.80   31282.086400   \n",
       "...                   ...       ...            ...       ...            ...   \n",
       "2021-01-26  120966.114176  32254.19  123470.218752  32921.88  115652.472448   \n",
       "2021-01-27  121753.023104  32464.01  122102.860416  32557.29  109668.146688   \n",
       "2021-01-28  113870.357376  30362.19  126703.438592  33783.98  111919.811840   \n",
       "2021-01-29  125144.022272  33368.18  144510.037760  38531.90  119695.516160   \n",
       "2021-01-30  128437.248512  34246.28  131012.723200  34933.00  123106.880000   \n",
       "\n",
       "             low_USD      close_SAR  close_USD  volume  \n",
       "date                                                    \n",
       "2018-05-07   9181.00   35122.496000    9365.00   33787  \n",
       "2018-05-08   9060.54   34457.025024    9187.56   25533  \n",
       "2018-05-09   8965.00   34916.224000    9310.00   25673  \n",
       "2018-05-10   8970.00   33761.850880    9002.20   25055  \n",
       "2018-05-11   8341.00   31503.360000    8400.00   48227  \n",
       "...              ...            ...        ...     ...  \n",
       "2021-01-26  30837.37  121767.124608   32467.77   84972  \n",
       "2021-01-27  29241.72  113885.208960   30366.15   95911  \n",
       "2021-01-28  29842.10  125131.570944   33364.86   92621  \n",
       "2021-01-29  31915.40  128459.450880   34252.20  231827  \n",
       "2021-01-30  32825.00  128333.212416   34218.54   43072  \n",
       "\n",
       "[1000 rows x 9 columns]"
      ]
     },
     "execution_count": 8,
     "metadata": {},
     "output_type": "execute_result"
    }
   ],
   "source": [
    "df = pd.read_csv('digital_currency.csv',index_col=['date'],parse_dates=True)\n",
    "df"
   ]
  },
  {
   "cell_type": "markdown",
   "id": "appointed-burning",
   "metadata": {},
   "source": [
    "### 1. Побудувати графік зміни ціни на час відкриття біржі (в доларах): \n",
    "   - а) загальний;\n",
    "   - б) за 2019 рік;\n",
    "   - в) за грудень 2020 року;\n",
    "   - г) за жовтень 2018 – липень 2020;\n",
    "   - д) за останні два тижня вересня 2020-го року."
   ]
  },
  {
   "cell_type": "markdown",
   "id": "italic-exception",
   "metadata": {},
   "source": [
    "а) загальний"
   ]
  },
  {
   "cell_type": "code",
   "execution_count": 9,
   "id": "corresponding-market",
   "metadata": {},
   "outputs": [
    {
     "data": {
      "text/plain": [
       "<AxesSubplot:xlabel='date'>"
      ]
     },
     "execution_count": 9,
     "metadata": {},
     "output_type": "execute_result"
    },
    {
     "data": {
      "image/png": "[encoded data removed]",
      "text/plain": [
       "<Figure size 432x288 with 1 Axes>"
      ]
     },
     "metadata": {
      "needs_background": "light"
     },
     "output_type": "display_data"
    }
   ],
   "source": [
    "df.open_USD.plot()"
   ]
  },
  {
   "cell_type": "markdown",
   "id": "right-supervision",
   "metadata": {},
   "source": [
    "б) за 2019 рік;"
   ]
  },
  {
   "cell_type": "code",
   "execution_count": 10,
   "id": "interior-uniform",
   "metadata": {},
   "outputs": [
    {
     "data": {
      "text/plain": [
       "<AxesSubplot:xlabel='date'>"
      ]
     },
     "execution_count": 10,
     "metadata": {},
     "output_type": "execute_result"
    },
    {
     "data": {
      "image/png": "[encoded data removed]",
      "text/plain": [
       "<Figure size 432x288 with 1 Axes>"
      ]
     },
     "metadata": {
      "needs_background": "light"
     },
     "output_type": "display_data"
    }
   ],
   "source": [
    "df.open_USD.loc['2019'].plot()"
   ]
  },
  {
   "cell_type": "markdown",
   "id": "demographic-costume",
   "metadata": {},
   "source": [
    "в) за грудень 2020 року"
   ]
  },
  {
   "cell_type": "code",
   "execution_count": 11,
   "id": "durable-geography",
   "metadata": {},
   "outputs": [
    {
     "data": {
      "text/plain": [
       "<AxesSubplot:xlabel='date'>"
      ]
     },
     "execution_count": 11,
     "metadata": {},
     "output_type": "execute_result"
    },
    {
     "data": {
      "image/png": "[encoded data removed]",
      "text/plain": [
       "<Figure size 432x288 with 1 Axes>"
      ]
     },
     "metadata": {
      "needs_background": "light"
     },
     "output_type": "display_data"
    }
   ],
   "source": [
    "df.open_USD.loc['2020-12'].plot()"
   ]
  },
  {
   "cell_type": "markdown",
   "id": "upper-handling",
   "metadata": {},
   "source": [
    "г) за жовтень 2018 – липень 2020"
   ]
  },
  {
   "cell_type": "code",
   "execution_count": 12,
   "id": "extensive-bangladesh",
   "metadata": {},
   "outputs": [
    {
     "data": {
      "text/plain": [
       "<AxesSubplot:xlabel='date'>"
      ]
     },
     "execution_count": 12,
     "metadata": {},
     "output_type": "execute_result"
    },
    {
     "data": {
      "image/png": "[encoded data removed]",
      "text/plain": [
       "<Figure size 432x288 with 1 Axes>"
      ]
     },
     "metadata": {
      "needs_background": "light"
     },
     "output_type": "display_data"
    }
   ],
   "source": [
    "df.open_USD.loc['2018-10':'2020-07'].plot()"
   ]
  },
  {
   "cell_type": "markdown",
   "id": "polished-suite",
   "metadata": {},
   "source": [
    "д) за останні два тижня вересня 2020-го року"
   ]
  },
  {
   "cell_type": "code",
   "execution_count": 13,
   "id": "protected-nightmare",
   "metadata": {},
   "outputs": [
    {
     "data": {
      "text/plain": [
       "<AxesSubplot:xlabel='date'>"
      ]
     },
     "execution_count": 13,
     "metadata": {},
     "output_type": "execute_result"
    },
    {
     "data": {
      "image/png": "[encoded data removed]",
      "text/plain": [
       "<Figure size 432x288 with 1 Axes>"
      ]
     },
     "metadata": {
      "needs_background": "light"
     },
     "output_type": "display_data"
    }
   ],
   "source": [
    "df.open_USD.loc['2020-09'].last('2W').plot()"
   ]
  },
  {
   "cell_type": "markdown",
   "id": "outstanding-challenge",
   "metadata": {},
   "source": [
    "### 2 Знайти середні значення найменшої ціни за день (в доларах):\n",
    "   - а) за 2019 рік;\n",
    "   - б) за кожний місяць;\n",
    "   - в) за кожний тиждень весни 2020 року.\n"
   ]
  },
  {
   "cell_type": "markdown",
   "id": "falling-brain",
   "metadata": {},
   "source": [
    "а) за 2019 рік"
   ]
  },
  {
   "cell_type": "code",
   "execution_count": 14,
   "id": "elementary-bailey",
   "metadata": {},
   "outputs": [
    {
     "data": {
      "text/plain": [
       "7152.498493150685"
      ]
     },
     "execution_count": 14,
     "metadata": {},
     "output_type": "execute_result"
    }
   ],
   "source": [
    "df.low_USD['2019'].mean()"
   ]
  },
  {
   "cell_type": "markdown",
   "id": "conditional-clearance",
   "metadata": {},
   "source": [
    "б) за кожний місяць"
   ]
  },
  {
   "cell_type": "code",
   "execution_count": 15,
   "id": "governmental-transfer",
   "metadata": {},
   "outputs": [
    {
     "data": {
      "text/html": [
       "<div>\n",
       "<style scoped>\n",
       "    .dataframe tbody tr th:only-of-type {\n",
       "        vertical-align: middle;\n",
       "    }\n",
       "\n",
       "    .dataframe tbody tr th {\n",
       "        vertical-align: top;\n",
       "    }\n",
       "\n",
       "    .dataframe thead th {\n",
       "        text-align: right;\n",
       "    }\n",
       "</style>\n",
       "<table border=\"1\" class=\"dataframe\">\n",
       "  <thead>\n",
       "    <tr style=\"text-align: right;\">\n",
       "      <th></th>\n",
       "      <th>low_USD</th>\n",
       "    </tr>\n",
       "    <tr>\n",
       "      <th>date</th>\n",
       "      <th></th>\n",
       "    </tr>\n",
       "  </thead>\n",
       "  <tbody>\n",
       "    <tr>\n",
       "      <th>2018-05-31</th>\n",
       "      <td>7973.228800</td>\n",
       "    </tr>\n",
       "    <tr>\n",
       "      <th>2018-06-30</th>\n",
       "      <td>6607.085000</td>\n",
       "    </tr>\n",
       "    <tr>\n",
       "      <th>2018-07-31</th>\n",
       "      <td>6934.625806</td>\n",
       "    </tr>\n",
       "    <tr>\n",
       "      <th>2018-08-31</th>\n",
       "      <td>6515.222903</td>\n",
       "    </tr>\n",
       "    <tr>\n",
       "      <th>2018-09-30</th>\n",
       "      <td>6470.139000</td>\n",
       "    </tr>\n",
       "    <tr>\n",
       "      <th>2018-10-31</th>\n",
       "      <td>6468.893548</td>\n",
       "    </tr>\n",
       "    <tr>\n",
       "      <th>2018-11-30</th>\n",
       "      <td>5333.953000</td>\n",
       "    </tr>\n",
       "    <tr>\n",
       "      <th>2018-12-31</th>\n",
       "      <td>3553.456452</td>\n",
       "    </tr>\n",
       "    <tr>\n",
       "      <th>2019-01-31</th>\n",
       "      <td>3573.680000</td>\n",
       "    </tr>\n",
       "    <tr>\n",
       "      <th>2019-02-28</th>\n",
       "      <td>3624.067857</td>\n",
       "    </tr>\n",
       "    <tr>\n",
       "      <th>2019-03-31</th>\n",
       "      <td>3888.419032</td>\n",
       "    </tr>\n",
       "    <tr>\n",
       "      <th>2019-04-30</th>\n",
       "      <td>5017.054000</td>\n",
       "    </tr>\n",
       "    <tr>\n",
       "      <th>2019-05-31</th>\n",
       "      <td>6986.438710</td>\n",
       "    </tr>\n",
       "    <tr>\n",
       "      <th>2019-06-30</th>\n",
       "      <td>9006.062667</td>\n",
       "    </tr>\n",
       "    <tr>\n",
       "      <th>2019-07-31</th>\n",
       "      <td>10203.459355</td>\n",
       "    </tr>\n",
       "    <tr>\n",
       "      <th>2019-08-31</th>\n",
       "      <td>10327.890323</td>\n",
       "    </tr>\n",
       "    <tr>\n",
       "      <th>2019-09-30</th>\n",
       "      <td>9538.298667</td>\n",
       "    </tr>\n",
       "    <tr>\n",
       "      <th>2019-10-31</th>\n",
       "      <td>8152.051935</td>\n",
       "    </tr>\n",
       "    <tr>\n",
       "      <th>2019-11-30</th>\n",
       "      <td>8152.853000</td>\n",
       "    </tr>\n",
       "    <tr>\n",
       "      <th>2019-12-31</th>\n",
       "      <td>7118.383226</td>\n",
       "    </tr>\n",
       "    <tr>\n",
       "      <th>2020-01-31</th>\n",
       "      <td>8156.874194</td>\n",
       "    </tr>\n",
       "    <tr>\n",
       "      <th>2020-02-29</th>\n",
       "      <td>9427.919310</td>\n",
       "    </tr>\n",
       "    <tr>\n",
       "      <th>2020-03-31</th>\n",
       "      <td>6526.353871</td>\n",
       "    </tr>\n",
       "    <tr>\n",
       "      <th>2020-04-30</th>\n",
       "      <td>6982.752333</td>\n",
       "    </tr>\n",
       "    <tr>\n",
       "      <th>2020-05-31</th>\n",
       "      <td>8973.878710</td>\n",
       "    </tr>\n",
       "    <tr>\n",
       "      <th>2020-06-30</th>\n",
       "      <td>9276.413000</td>\n",
       "    </tr>\n",
       "    <tr>\n",
       "      <th>2020-07-31</th>\n",
       "      <td>9407.485806</td>\n",
       "    </tr>\n",
       "    <tr>\n",
       "      <th>2020-08-31</th>\n",
       "      <td>11376.402581</td>\n",
       "    </tr>\n",
       "    <tr>\n",
       "      <th>2020-09-30</th>\n",
       "      <td>10404.209000</td>\n",
       "    </tr>\n",
       "    <tr>\n",
       "      <th>2020-10-31</th>\n",
       "      <td>11619.222903</td>\n",
       "    </tr>\n",
       "    <tr>\n",
       "      <th>2020-11-30</th>\n",
       "      <td>16007.585667</td>\n",
       "    </tr>\n",
       "    <tr>\n",
       "      <th>2020-12-31</th>\n",
       "      <td>21131.090323</td>\n",
       "    </tr>\n",
       "    <tr>\n",
       "      <th>2021-01-31</th>\n",
       "      <td>32498.601333</td>\n",
       "    </tr>\n",
       "  </tbody>\n",
       "</table>\n",
       "</div>"
      ],
      "text/plain": [
       "                 low_USD\n",
       "date                    \n",
       "2018-05-31   7973.228800\n",
       "2018-06-30   6607.085000\n",
       "2018-07-31   6934.625806\n",
       "2018-08-31   6515.222903\n",
       "2018-09-30   6470.139000\n",
       "2018-10-31   6468.893548\n",
       "2018-11-30   5333.953000\n",
       "2018-12-31   3553.456452\n",
       "2019-01-31   3573.680000\n",
       "2019-02-28   3624.067857\n",
       "2019-03-31   3888.419032\n",
       "2019-04-30   5017.054000\n",
       "2019-05-31   6986.438710\n",
       "2019-06-30   9006.062667\n",
       "2019-07-31  10203.459355\n",
       "2019-08-31  10327.890323\n",
       "2019-09-30   9538.298667\n",
       "2019-10-31   8152.051935\n",
       "2019-11-30   8152.853000\n",
       "2019-12-31   7118.383226\n",
       "2020-01-31   8156.874194\n",
       "2020-02-29   9427.919310\n",
       "2020-03-31   6526.353871\n",
       "2020-04-30   6982.752333\n",
       "2020-05-31   8973.878710\n",
       "2020-06-30   9276.413000\n",
       "2020-07-31   9407.485806\n",
       "2020-08-31  11376.402581\n",
       "2020-09-30  10404.209000\n",
       "2020-10-31  11619.222903\n",
       "2020-11-30  16007.585667\n",
       "2020-12-31  21131.090323\n",
       "2021-01-31  32498.601333"
      ]
     },
     "execution_count": 15,
     "metadata": {},
     "output_type": "execute_result"
    }
   ],
   "source": [
    "pd.DataFrame(df.low_USD.resample('M').mean())"
   ]
  },
  {
   "cell_type": "markdown",
   "id": "norman-client",
   "metadata": {},
   "source": [
    "в) за кожний тиждень весни 2020 року"
   ]
  },
  {
   "cell_type": "code",
   "execution_count": 16,
   "id": "drawn-slovakia",
   "metadata": {},
   "outputs": [
    {
     "data": {
      "text/html": [
       "<div>\n",
       "<style scoped>\n",
       "    .dataframe tbody tr th:only-of-type {\n",
       "        vertical-align: middle;\n",
       "    }\n",
       "\n",
       "    .dataframe tbody tr th {\n",
       "        vertical-align: top;\n",
       "    }\n",
       "\n",
       "    .dataframe thead th {\n",
       "        text-align: right;\n",
       "    }\n",
       "</style>\n",
       "<table border=\"1\" class=\"dataframe\">\n",
       "  <thead>\n",
       "    <tr style=\"text-align: right;\">\n",
       "      <th></th>\n",
       "      <th>low_USD</th>\n",
       "    </tr>\n",
       "    <tr>\n",
       "      <th>date</th>\n",
       "      <th></th>\n",
       "    </tr>\n",
       "  </thead>\n",
       "  <tbody>\n",
       "    <tr>\n",
       "      <th>2020-03-01</th>\n",
       "      <td>8411.000000</td>\n",
       "    </tr>\n",
       "    <tr>\n",
       "      <th>2020-03-08</th>\n",
       "      <td>8625.148571</td>\n",
       "    </tr>\n",
       "    <tr>\n",
       "      <th>2020-03-15</th>\n",
       "      <td>5898.625714</td>\n",
       "    </tr>\n",
       "    <tr>\n",
       "      <th>2020-03-22</th>\n",
       "      <td>5269.928571</td>\n",
       "    </tr>\n",
       "    <tr>\n",
       "      <th>2020-03-29</th>\n",
       "      <td>6167.270000</td>\n",
       "    </tr>\n",
       "    <tr>\n",
       "      <th>2020-04-05</th>\n",
       "      <td>6401.414286</td>\n",
       "    </tr>\n",
       "    <tr>\n",
       "      <th>2020-04-12</th>\n",
       "      <td>6911.437143</td>\n",
       "    </tr>\n",
       "    <tr>\n",
       "      <th>2020-04-19</th>\n",
       "      <td>6777.932857</td>\n",
       "    </tr>\n",
       "    <tr>\n",
       "      <th>2020-04-26</th>\n",
       "      <td>7092.867143</td>\n",
       "    </tr>\n",
       "    <tr>\n",
       "      <th>2020-05-03</th>\n",
       "      <td>8207.818571</td>\n",
       "    </tr>\n",
       "    <tr>\n",
       "      <th>2020-05-10</th>\n",
       "      <td>8935.887143</td>\n",
       "    </tr>\n",
       "    <tr>\n",
       "      <th>2020-05-17</th>\n",
       "      <td>8924.375714</td>\n",
       "    </tr>\n",
       "    <tr>\n",
       "      <th>2020-05-24</th>\n",
       "      <td>9111.821429</td>\n",
       "    </tr>\n",
       "    <tr>\n",
       "      <th>2020-05-31</th>\n",
       "      <td>9043.870000</td>\n",
       "    </tr>\n",
       "  </tbody>\n",
       "</table>\n",
       "</div>"
      ],
      "text/plain": [
       "                low_USD\n",
       "date                   \n",
       "2020-03-01  8411.000000\n",
       "2020-03-08  8625.148571\n",
       "2020-03-15  5898.625714\n",
       "2020-03-22  5269.928571\n",
       "2020-03-29  6167.270000\n",
       "2020-04-05  6401.414286\n",
       "2020-04-12  6911.437143\n",
       "2020-04-19  6777.932857\n",
       "2020-04-26  7092.867143\n",
       "2020-05-03  8207.818571\n",
       "2020-05-10  8935.887143\n",
       "2020-05-17  8924.375714\n",
       "2020-05-24  9111.821429\n",
       "2020-05-31  9043.870000"
      ]
     },
     "execution_count": 16,
     "metadata": {},
     "output_type": "execute_result"
    }
   ],
   "source": [
    "pd.DataFrame(df.low_USD['2020-03':'2020-05'].resample('W').mean())"
   ]
  }
 ],
 "metadata": {
  "kernelspec": {
   "display_name": "venv",
   "language": "python",
   "name": "venv"
  },
  "language_info": {
   "codemirror_mode": {
    "name": "ipython",
    "version": 3
   },
   "file_extension": ".py",
   "mimetype": "text/x-python",
   "name": "python",
   "nbconvert_exporter": "python",
   "pygments_lexer": "ipython3",
   "version": "3.8.8"
  }
 },
 "nbformat": 4,
 "nbformat_minor": 5
}
